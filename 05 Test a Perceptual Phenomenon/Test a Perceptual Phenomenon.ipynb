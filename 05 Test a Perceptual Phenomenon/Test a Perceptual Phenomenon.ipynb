{
 "cells": [
  {
   "cell_type": "markdown",
   "metadata": {},
   "source": [
    "### Analyzing the Stroop Effect\n",
    "Perform the analysis in the space below. Remember to follow [the instructions](https://docs.google.com/document/d/1-OkpZLjG_kX9J6LIQ5IltsqMzVWjh36QpnP2RYpVdPU/pub?embedded=True) and review the [project rubric](https://review.udacity.com/#!/rubrics/71/view) before submitting. Once you've completed the analysis and write-up, download this file as a PDF or HTML file, upload that PDF/HTML into the workspace here (click on the orange Jupyter icon in the upper left then Upload), then use the Submit Project button at the bottom of this page. This will create a zip file containing both this .ipynb doc and the PDF/HTML doc that will be submitted for your project.\n",
    "\n",
    "\n",
    "(1) What is the independent variable? What is the dependent variable?"
   ]
  },
  {
   "cell_type": "markdown",
   "metadata": {},
   "source": [
    "The dependent variable is what we measure. In this case the time between the stimulus and the response.\n",
    "\n",
    "The independent variable is what we manipulate. In the Stroop experiment it is whether the word and the color the word is written in is concruent or not. "
   ]
  },
  {
   "cell_type": "markdown",
   "metadata": {},
   "source": [
    "(2) What is an appropriate set of hypotheses for this task? Specify your null and alternative hypotheses, and clearly define any notation used. Justify your choices."
   ]
  },
  {
   "cell_type": "markdown",
   "metadata": {},
   "source": [
    "The Stroop experiment is done by repeating the same task (reading words of a given list) twice and manipulating the test setup between these two tasks. In this case the color of the words presented is changed. All other variables stay constant. For example the number of words. \n",
    "\n",
    "As usual instead of testing the whole population (in this expriment we would need to test all human beings) a random sample of humans is tested and statistics can be used to predict whether the manipulation has an effect and whether one can make assumptions about the whole population. \n",
    "\n",
    "Appropriate hypotheses for such a testing are: \n",
    "\n",
    "- The null hypothesis (that is the assumption before we run any test) is that the average response time of the task under the incongruent words condition is not different than that of the congruent words condition.\n",
    "- The alternative hypothesis is that the reaction time is significantly different in the incongruent words condition that in the congurent words condition. \n",
    "\n",
    "Let $_{c}$ be the subscript for **congruent** and $_{i}$ the subscript for **incongruent**. Then the notation is\n",
    "\n",
    "$H_{0}: \\mu_{c} - \\mu_{i} = 0$\n",
    "\n",
    "and\n",
    "\n",
    "$H_{1}: \\mu_{c} - \\mu_{i} \\neq 0$"
   ]
  },
  {
   "cell_type": "markdown",
   "metadata": {},
   "source": [
    "(3) Report some descriptive statistics regarding this dataset. Include at least one measure of central tendency and at least one measure of variability. The name of the data file is 'stroopdata.csv'."
   ]
  },
  {
   "cell_type": "code",
   "execution_count": 2,
   "metadata": {},
   "outputs": [
    {
     "data": {
      "text/html": [
       "<div>\n",
       "<style>\n",
       "    .dataframe thead tr:only-child th {\n",
       "        text-align: right;\n",
       "    }\n",
       "\n",
       "    .dataframe thead th {\n",
       "        text-align: left;\n",
       "    }\n",
       "\n",
       "    .dataframe tbody tr th {\n",
       "        vertical-align: top;\n",
       "    }\n",
       "</style>\n",
       "<table border=\"1\" class=\"dataframe\">\n",
       "  <thead>\n",
       "    <tr style=\"text-align: right;\">\n",
       "      <th></th>\n",
       "      <th>Congruent</th>\n",
       "      <th>Incongruent</th>\n",
       "    </tr>\n",
       "  </thead>\n",
       "  <tbody>\n",
       "    <tr>\n",
       "      <th>count</th>\n",
       "      <td>24.000000</td>\n",
       "      <td>24.000000</td>\n",
       "    </tr>\n",
       "    <tr>\n",
       "      <th>mean</th>\n",
       "      <td>14.051125</td>\n",
       "      <td>22.015917</td>\n",
       "    </tr>\n",
       "    <tr>\n",
       "      <th>std</th>\n",
       "      <td>3.559358</td>\n",
       "      <td>4.797057</td>\n",
       "    </tr>\n",
       "    <tr>\n",
       "      <th>min</th>\n",
       "      <td>8.630000</td>\n",
       "      <td>15.687000</td>\n",
       "    </tr>\n",
       "    <tr>\n",
       "      <th>25%</th>\n",
       "      <td>11.895250</td>\n",
       "      <td>18.716750</td>\n",
       "    </tr>\n",
       "    <tr>\n",
       "      <th>50%</th>\n",
       "      <td>14.356500</td>\n",
       "      <td>21.017500</td>\n",
       "    </tr>\n",
       "    <tr>\n",
       "      <th>75%</th>\n",
       "      <td>16.200750</td>\n",
       "      <td>24.051500</td>\n",
       "    </tr>\n",
       "    <tr>\n",
       "      <th>max</th>\n",
       "      <td>22.328000</td>\n",
       "      <td>35.255000</td>\n",
       "    </tr>\n",
       "  </tbody>\n",
       "</table>\n",
       "</div>"
      ],
      "text/plain": [
       "       Congruent  Incongruent\n",
       "count  24.000000    24.000000\n",
       "mean   14.051125    22.015917\n",
       "std     3.559358     4.797057\n",
       "min     8.630000    15.687000\n",
       "25%    11.895250    18.716750\n",
       "50%    14.356500    21.017500\n",
       "75%    16.200750    24.051500\n",
       "max    22.328000    35.255000"
      ]
     },
     "execution_count": 2,
     "metadata": {},
     "output_type": "execute_result"
    }
   ],
   "source": [
    "import pandas as pd\n",
    "df = pd.read_csv('stroopdata.csv')\n",
    "df.describe()"
   ]
  },
  {
   "cell_type": "code",
   "execution_count": 3,
   "metadata": {},
   "outputs": [
    {
     "data": {
      "text/plain": [
       "Congruent      13.698\n",
       "Incongruent    19.568\n",
       "dtype: float64"
      ]
     },
     "execution_count": 3,
     "metadata": {},
     "output_type": "execute_result"
    }
   ],
   "source": [
    "df.max() - df.min()"
   ]
  },
  {
   "cell_type": "code",
   "execution_count": 4,
   "metadata": {},
   "outputs": [
    {
     "data": {
      "text/plain": [
       "Congruent      12.669029\n",
       "Incongruent    23.011757\n",
       "dtype: float64"
      ]
     },
     "execution_count": 4,
     "metadata": {},
     "output_type": "execute_result"
    }
   ],
   "source": [
    "df.var()"
   ]
  },
  {
   "cell_type": "markdown",
   "metadata": {},
   "source": [
    "- There are 24 rows in the dataset. \n",
    "- On average these 24 testees needed $\\overline{x}_{c} = 14.05$ seconds and $\\overline{x}_{i} = 22.01$ seconds to respond.\n",
    "- The response time range is 13.698 seconds in the congruent test and 19.568 seconds in the incongruent test.\n",
    "- The fastest response was 8.63 seconds in the congruent measure and 15.687 seconds in the incongurent measurement.\n",
    "- The slowest reponse time was 22.328 seconds in the congurent words condition and 35.255 seconds in the incongurent words condition. \n",
    "- The median is $\\tilde{x}_{c} = 14.357$ seconds and $\\tilde{x}_{i} = 14.357$.\n",
    "- The variance of the data is $s^2_{c} = 12.669$ and $s^2_{i} = 23.011$ as this is the square root of the standard deviation of $s_{c} = 3.599$ and $s_{i} = 4.797$."
   ]
  },
  {
   "cell_type": "markdown",
   "metadata": {},
   "source": [
    "These statistics suggest that the average response time in the incongruent words condition is higher than in the congruent word condition. But currently this difference can just be by coincidence."
   ]
  },
  {
   "cell_type": "markdown",
   "metadata": {},
   "source": [
    "(4) Provide one or two visualizations that show the distribution of the sample data. Write one or two sentences noting what you observe about the plot or plots."
   ]
  },
  {
   "cell_type": "markdown",
   "metadata": {},
   "source": [
    "I think the best plot to display the difference of the mean between two measurements is a box plot."
   ]
  },
  {
   "cell_type": "code",
   "execution_count": 5,
   "metadata": {},
   "outputs": [],
   "source": [
    "import matplotlib as plt\n",
    "import seaborn as sns\n",
    "%matplotlib inline"
   ]
  },
  {
   "cell_type": "code",
   "execution_count": 6,
   "metadata": {},
   "outputs": [
    {
     "data": {
      "image/png": "[encoded data removed]",
      "text/plain": [
       "<matplotlib.figure.Figure at 0x7fa5b1de5550>"
      ]
     },
     "metadata": {},
     "output_type": "display_data"
    }
   ],
   "source": [
    "sns.set(style=\"whitegrid\")\n",
    "ax = sns.boxplot(data=df)\n",
    "ax.set_title('Stroop Task response time')\n",
    "ax.set_xlabel('Task Condition')\n",
    "ax.set_ylabel('Response Time (s)');"
   ]
  },
  {
   "cell_type": "markdown",
   "metadata": {},
   "source": [
    "The plot again suggests that the response time in the incongruent words condition is higher. Most of the values of the incongruent measurement are above the third quartile of the congruent measurement. And this box has two outliers. \n",
    "\n",
    "This is consistent with the sample statistic above. A second plot to show the distribution is a histogram. I'll plot both distributions in one plot."
   ]
  },
  {
   "cell_type": "code",
   "execution_count": 7,
   "metadata": {},
   "outputs": [
    {
     "data": {
      "image/png": "[encoded data removed]",
      "text/plain": [
       "<matplotlib.figure.Figure at 0x7fa5b1de5b38>"
      ]
     },
     "metadata": {},
     "output_type": "display_data"
    }
   ],
   "source": [
    "fig, dax = plt.pyplot.subplots()\n",
    "sns.distplot(df['Congruent'], ax=dax, bins=20, axlabel=False, label='Congruent', kde=False)\n",
    "sns.distplot(df['Incongruent'], ax=dax, bins=20, axlabel=False, label='Incongruent', kde=False)\n",
    "dax.set_xlabel('Response Time')\n",
    "dax.set_ylabel(\"Frequency\");\n",
    "dax.set_title(\"Response time for congruent vs incongruent words\");\n",
    "dax.legend();"
   ]
  },
  {
   "cell_type": "markdown",
   "metadata": {},
   "source": [
    "The plot is consistent with the statistics seen so far."
   ]
  },
  {
   "cell_type": "markdown",
   "metadata": {},
   "source": [
    "(5)  Now, perform the statistical test and report your results. What is your confidence level or Type I error associated with your test? What is your conclusion regarding the hypotheses you set up? Did the results match up with your expectations? **Hint:**  Think about what is being measured on each individual, and what statistic best captures how an individual reacts in each environment."
   ]
  },
  {
   "cell_type": "markdown",
   "metadata": {},
   "source": [
    "As this is an experiment with one sample and a repeated measurement and I don't know anything about the average response time of the population I choose to perform a Dependent t-test for paired samples to compare the means of two measurements. \n",
    "\n",
    "This is done by scipy internally as a one sample t-test using the average response time of the differences between the two measurements.\n",
    "\n",
    "I choose a standard confidence level of 5% or 0.05 for this test."
   ]
  },
  {
   "cell_type": "code",
   "execution_count": 8,
   "metadata": {},
   "outputs": [],
   "source": [
    "from scipy import stats"
   ]
  },
  {
   "cell_type": "code",
   "execution_count": 9,
   "metadata": {},
   "outputs": [
    {
     "data": {
      "text/plain": [
       "Ttest_relResult(statistic=8.020706944109957, pvalue=4.1030005857111781e-08)"
      ]
     },
     "execution_count": 9,
     "metadata": {},
     "output_type": "execute_result"
    }
   ],
   "source": [
    "stats.ttest_rel(df['Incongruent'], df['Congruent'])"
   ]
  },
  {
   "cell_type": "markdown",
   "metadata": {},
   "source": [
    "The t-statistic gives the information about how much the sample mean differs from the null hypothesis. If it lies outside the critical values of the t-distribution corresponding to the confidence level and degrees of freedom, we reject the null hypothesis. We could look up the critical values in a table but we can use scipy again for us by giving it the quantil ranges (for a two tail test and $\\alpha = 0.05$ these are 0.025 and 0.975) and the degrees of freedom. This is the number of pairs minus 1 for a paired t-test. "
   ]
  },
  {
   "cell_type": "code",
   "execution_count": 10,
   "metadata": {},
   "outputs": [
    {
     "data": {
      "text/plain": [
       "(-2.0686576104190411, 2.0686576104190406)"
      ]
     },
     "execution_count": 10,
     "metadata": {},
     "output_type": "execute_result"
    }
   ],
   "source": [
    "t_critical_values = (stats.t.ppf(q=0.025,df=len(df)-1), stats.t.ppf(q=0.975,df=len(df)-1))\n",
    "t_critical_values"
   ]
  },
  {
   "cell_type": "markdown",
   "metadata": {},
   "source": [
    "The t-statistic clearly is larger than the t-critical value of 2.0686576104190406 at $\\alpha = 0.05$ and the degrees of freedom of 23. That means that if the null hypothesis was true the probability of finding t-statistic as extreme as this is less than 5%.\n",
    "\n",
    "The p-value calculated is 4.1030005857111781e-08. Thas means odds of 0.000004103 of having a difference as large as (or larger than) the one in our study if the null hypothesis was true. As this p-value is way smaller than 0.05 I reject the null hypothesis. \n",
    "\n",
    "I have evidence to suggest that on average it takes longer to read out words in the incongruent words condition."
   ]
  },
  {
   "cell_type": "markdown",
   "metadata": {},
   "source": [
    "(6) Optional: What do you think is responsible for the effects observed? Can you think of an alternative or similar task that would result in a similar effect? Some research about the problem will be helpful for thinking about these two questions!"
   ]
  },
  {
   "cell_type": "markdown",
   "metadata": {},
   "source": [
    "I think that the Stroop Effect is evidence that our brain is a very efficient machine that automates tasks that are trained over and over again. Reading is s skill humans learn very early and what is done over and over again every day. \n",
    "\n",
    "In contrast if we have to do unusual tasks our brain has to think. 🤔 \n",
    "\n",
    "That takes longer and explains - in my opinion - why it takes longer to realize the color a word is written in than the word itself. If we would train that every day the time to do that would be shorter and shorter until it takes as less time as reading a word. \n",
    "\n",
    "A similar task is that: https://youtu.be/MFzDaBzBlL0"
   ]
  },
  {
   "cell_type": "markdown",
   "metadata": {},
   "source": [
    "### References\n",
    "\n",
    "In addition to the documentation of Pandas, Matplotlib and Seaborn I used these websites:\n",
    "\n",
    "- [Wikipedia: Stroop Effect](https://en.wikipedia.org/wiki/Stroop_effect)\n",
    "- [Wikipedia: Student's t-test](https://en.wikipedia.org/wiki/Student%27s_t-test)\n",
    "- [Neuroscience For Kids](https://faculty.washington.edu/chudler/words.html)\n",
    "- [Skewed Distribution: Definition, Examples](http://www.statisticshowto.com/probability-and-statistics/skewed-distribution/)\n",
    "- [Box Plot: Display of Distribution](http://www.physics.csbsju.edu/stats/box2.html)"
   ]
  }
 ],
 "metadata": {
  "kernelspec": {
   "display_name": "Python 3",
   "language": "python",
   "name": "python3"
  },
  "language_info": {
   "codemirror_mode": {
    "name": "ipython",
    "version": 3
   },
   "file_extension": ".py",
   "mimetype": "text/x-python",
   "name": "python",
   "nbconvert_exporter": "python",
   "pygments_lexer": "ipython3",
   "version": "3.6.3"
  }
 },
 "nbformat": 4,
 "nbformat_minor": 2
}
